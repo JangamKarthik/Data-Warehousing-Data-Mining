{
  "nbformat": 4,
  "nbformat_minor": 0,
  "metadata": {
    "colab": {
      "provenance": []
    },
    "kernelspec": {
      "name": "python3",
      "display_name": "Python 3"
    },
    "language_info": {
      "name": "python"
    }
  },
  "cells": [
    {
      "cell_type": "code",
      "source": [
        "from itertools import combinations\n",
        "from collections import Counter\n"
      ],
      "metadata": {
        "id": "eFWzoxnE--FK"
      },
      "execution_count": 8,
      "outputs": []
    },
    {
      "cell_type": "code",
      "source": [
        "def generate_candidates(prev_itemsets, k):\n",
        "    candidates = set()\n",
        "    for i in prev_itemsets:\n",
        "        for j in prev_itemsets:\n",
        "            if i != j:\n",
        "                t = i.union(j)\n",
        "                if len(t) == k:\n",
        "                    candidates.add(t)\n",
        "    return list(candidates)\n"
      ],
      "metadata": {
        "id": "28dWeBNo_PGA"
      },
      "execution_count": 9,
      "outputs": []
    },
    {
      "cell_type": "code",
      "source": [
        "def generate_itemsets(transactions, min_support):\n",
        "    itemsets = set()\n",
        "    for transaction in transactions:\n",
        "        itemsets.update(transaction[1])\n",
        "    itemsets = sorted(itemsets)\n",
        "\n",
        "    support_count = Counter()\n",
        "    for item in itemsets:\n",
        "        for transaction in transactions:\n",
        "            if item in transaction[1]:\n",
        "                support_count[frozenset([item])] += 1\n",
        "\n",
        "    print(\"C1:\")\n",
        "    for item in itemsets:\n",
        "        print(f\"[{item}]: {support_count[frozenset([item])]}\")\n",
        "\n",
        "    frequent_itemsets = set()\n",
        "    for item in itemsets:\n",
        "        if support_count[frozenset([item])] >= min_support:\n",
        "            frequent_itemsets.add(frozenset([item]))\n",
        "\n",
        "    print(\"\\nL1:\")\n",
        "    for itemset in frequent_itemsets:\n",
        "        print(f\"{list(itemset)}: {support_count[itemset]}\")\n",
        "\n",
        "    k = 2\n",
        "    while frequent_itemsets:\n",
        "        candidates = generate_candidates(frequent_itemsets, k)\n",
        "        support_count = Counter()\n",
        "\n",
        "        for candidate in candidates:\n",
        "            for transaction in transactions:\n",
        "                if candidate.issubset(set(transaction[1])):\n",
        "                    support_count[candidate] += 1\n",
        "\n",
        "        print(f\"\\nC{k}:\")\n",
        "        for candidate in candidates:\n",
        "            print(f\"{list(candidate)}: {support_count[candidate]}\")\n",
        "\n",
        "        frequent_itemsets = set()\n",
        "        for candidate in candidates:\n",
        "            if support_count[candidate] >= min_support:\n",
        "                frequent_itemsets.add(candidate)\n",
        "\n",
        "        print(f\"\\nL{k}:\")\n",
        "        for itemset in frequent_itemsets:\n",
        "            print(f\"{list(itemset)}: {support_count[itemset]}\")\n",
        "\n",
        "        k += 1"
      ],
      "metadata": {
        "id": "KkDIYDZDA3ER"
      },
      "execution_count": 10,
      "outputs": []
    },
    {
      "cell_type": "code",
      "source": [
        "if __name__ == \"__main__\":\n",
        "    data = [\n",
        "        ['T100', ['M', 'O', 'N', 'K', 'E', 'Y']],\n",
        "        ['T200', ['D', 'O', 'N', 'K', 'E', 'Y']],\n",
        "        ['T300', ['M', 'A', 'K', 'E']],\n",
        "        ['T400', ['M', 'U', 'C', 'K', 'Y']],\n",
        "        ['T500', ['C', 'O', 'O', 'K', 'I', 'E']]\n",
        "    ]\n",
        "\n",
        "    min_support = 3\n",
        "    generate_itemsets(data,min_support)"
      ],
      "metadata": {
        "colab": {
          "base_uri": "https://localhost:8080/"
        },
        "id": "dNphGSfRBLI4",
        "outputId": "70a23474-c232-49f9-dd7c-da236fa16b83"
      },
      "execution_count": 12,
      "outputs": [
        {
          "output_type": "stream",
          "name": "stdout",
          "text": [
            "C1:\n",
            "[A]: 1\n",
            "[C]: 2\n",
            "[D]: 1\n",
            "[E]: 4\n",
            "[I]: 1\n",
            "[K]: 5\n",
            "[M]: 3\n",
            "[N]: 2\n",
            "[O]: 3\n",
            "[U]: 1\n",
            "[Y]: 3\n",
            "\n",
            "L1:\n",
            "['K']: 5\n",
            "['M']: 3\n",
            "['Y']: 3\n",
            "['E']: 4\n",
            "['O']: 3\n",
            "\n",
            "C2:\n",
            "['E', 'K']: 4\n",
            "['O', 'K']: 3\n",
            "['M', 'K']: 3\n",
            "['Y', 'K']: 3\n",
            "['Y', 'E']: 2\n",
            "['M', 'E']: 2\n",
            "['O', 'Y']: 2\n",
            "['M', 'Y']: 2\n",
            "['O', 'E']: 3\n",
            "['M', 'O']: 1\n",
            "\n",
            "L2:\n",
            "['E', 'K']: 4\n",
            "['O', 'K']: 3\n",
            "['M', 'K']: 3\n",
            "['Y', 'K']: 3\n",
            "['O', 'E']: 3\n",
            "\n",
            "C3:\n",
            "['M', 'Y', 'K']: 2\n",
            "['O', 'Y', 'K']: 2\n",
            "['M', 'E', 'K']: 2\n",
            "['M', 'O', 'K']: 1\n",
            "['Y', 'E', 'K']: 2\n",
            "['O', 'E', 'K']: 3\n",
            "\n",
            "L3:\n",
            "['O', 'E', 'K']: 3\n",
            "\n",
            "C4:\n",
            "\n",
            "L4:\n"
          ]
        }
      ]
    },
    {
      "cell_type": "code",
      "source": [],
      "metadata": {
        "id": "FHEs9bBlBRvt"
      },
      "execution_count": null,
      "outputs": []
    }
  ]
}