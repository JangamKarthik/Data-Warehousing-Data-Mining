{
  "nbformat": 4,
  "nbformat_minor": 0,
  "metadata": {
    "colab": {
      "provenance": []
    },
    "kernelspec": {
      "name": "python3",
      "display_name": "Python 3"
    },
    "language_info": {
      "name": "python"
    }
  },
  "cells": [
    {
      "cell_type": "code",
      "source": [
        "from google.colab import drive\n",
        "drive.mount('/content/drive')"
      ],
      "metadata": {
        "colab": {
          "base_uri": "https://localhost:8080/"
        },
        "id": "spCIp7i_gs8Z",
        "outputId": "8c830d72-86f2-42d8-a6d9-56d2128386c9"
      },
      "execution_count": 2,
      "outputs": [
        {
          "output_type": "stream",
          "name": "stdout",
          "text": [
            "Mounted at /content/drive\n"
          ]
        }
      ]
    },
    {
      "cell_type": "code",
      "source": [
        "import pandas as pd\n",
        "import numpy as np"
      ],
      "metadata": {
        "id": "s6VgpJRUiv9_"
      },
      "execution_count": 31,
      "outputs": []
    },
    {
      "cell_type": "code",
      "source": [
        "data = pd.read_csv('/content/drive/MyDrive/diabetes.csv')\n",
        "\n",
        "train_data, test_data = train_test_split(data, test_size=0.3, random_state=42)\n",
        "\n",
        "X_train = train_data.drop(columns=['Outcome'])\n",
        "y_train = train_data['Outcome']\n",
        "\n",
        "X_test = test_data.drop(columns=['Outcome'])\n",
        "y_test = test_data['Outcome']\n",
        "\n",
        "print(\"X_train shape:\", X_train.shape)\n",
        "print(\"y_train shape:\", y_train.shape)\n",
        "print(\"X_test shape:\", X_test.shape)\n",
        "print(\"y_test shape:\", y_test.shape)"
      ],
      "metadata": {
        "colab": {
          "base_uri": "https://localhost:8080/"
        },
        "id": "QhNmK-5fl8LD",
        "outputId": "c08c0b68-724a-409c-a9b8-38f350874ff1"
      },
      "execution_count": 32,
      "outputs": [
        {
          "output_type": "stream",
          "name": "stdout",
          "text": [
            "X_train shape: (537, 8)\n",
            "y_train shape: (537,)\n",
            "X_test shape: (231, 8)\n",
            "y_test shape: (231,)\n"
          ]
        }
      ]
    },
    {
      "cell_type": "code",
      "source": [
        "mean_by_class = X_train.groupby(y_train).mean()\n",
        "std_by_class = X_train.groupby(y_train).std()"
      ],
      "metadata": {
        "id": "yHwYvY98mClb"
      },
      "execution_count": 33,
      "outputs": []
    },
    {
      "cell_type": "code",
      "source": [
        "def gaussian_pdf(x, mean, std):\n",
        "    exponent = np.exp(-((x - mean) ** 2) / (2 * std ** 2))\n",
        "    return (1 / (std * np.sqrt(2 * np.pi))) * exponent"
      ],
      "metadata": {
        "id": "aFFFDXQ8mG8T"
      },
      "execution_count": 34,
      "outputs": []
    },
    {
      "cell_type": "code",
      "source": [
        "def predict(X, mean_by_class, std_by_class):\n",
        "    predictions = []\n",
        "    for _, row in X.iterrows():\n",
        "        probs = []\n",
        "        for outcome in mean_by_class.index:\n",
        "            likelihood = 1\n",
        "            for feature in X.columns:\n",
        "                likelihood *= gaussian_pdf(row[feature], mean_by_class.loc[outcome, feature], std_by_class.loc[outcome, feature])\n",
        "            probs.append(likelihood)\n",
        "        predictions.append(mean_by_class.index[np.argmax(probs)])\n",
        "    return predictions"
      ],
      "metadata": {
        "id": "iNVvNFpXmKcL"
      },
      "execution_count": 35,
      "outputs": []
    },
    {
      "cell_type": "code",
      "source": [
        "predictions = predict(X_test, mean_by_class, std_by_class)"
      ],
      "metadata": {
        "id": "2OGDLS6fmO8q"
      },
      "execution_count": 36,
      "outputs": []
    },
    {
      "cell_type": "code",
      "source": [
        "accuracy = accuracy_score(y_test, predictions)\n",
        "print(f'Accuracy: {accuracy:.4f}')"
      ],
      "metadata": {
        "colab": {
          "base_uri": "https://localhost:8080/"
        },
        "id": "E3fGZEadmR4j",
        "outputId": "e77e11a4-0ebb-454f-c6f0-c786b6fe5f1f"
      },
      "execution_count": 37,
      "outputs": [
        {
          "output_type": "stream",
          "name": "stdout",
          "text": [
            "Accuracy: 0.7056\n"
          ]
        }
      ]
    },
    {
      "cell_type": "code",
      "source": [],
      "metadata": {
        "id": "2tnBd46PmWwb"
      },
      "execution_count": null,
      "outputs": []
    }
  ]
}